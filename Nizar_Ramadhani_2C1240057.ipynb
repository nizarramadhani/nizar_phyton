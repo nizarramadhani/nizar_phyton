{
  "nbformat": 4,
  "nbformat_minor": 0,
  "metadata": {
    "colab": {
      "provenance": [],
      "authorship_tag": "ABX9TyO/dARKUB52Q5JhvCtxua0r",
      "include_colab_link": true
    },
    "kernelspec": {
      "name": "python3",
      "display_name": "Python 3"
    },
    "language_info": {
      "name": "python"
    }
  },
  "cells": [
    {
      "cell_type": "markdown",
      "metadata": {
        "id": "view-in-github",
        "colab_type": "text"
      },
      "source": [
        "<a href=\"https://colab.research.google.com/github/nizarramadhani/nizar_phyton/blob/main/Nizar_Ramadhani_2C1240057.ipynb\" target=\"_parent\"><img src=\"https://colab.research.google.com/assets/colab-badge.svg\" alt=\"Open In Colab\"/></a>"
      ]
    },
    {
      "cell_type": "code",
      "execution_count": 2,
      "metadata": {
        "colab": {
          "base_uri": "https://localhost:8080/"
        },
        "id": "is1SOgi81NCq",
        "outputId": "b0c51898-60cb-4f1e-e970-b2363d614063"
      },
      "outputs": [
        {
          "output_type": "stream",
          "name": "stdout",
          "text": [
            "masukan nama :Nizar Ramadhani\n",
            "halo, Nizar Ramadhani !selamat belajar python!\n"
          ]
        }
      ],
      "source": [
        "#program nama\n",
        "nama = input(\"masukan nama :\")\n",
        "print(f\"halo, {nama} !selamat belajar python!\")"
      ]
    },
    {
      "cell_type": "code",
      "source": [
        "#program menghitung luas persegi panjang\n",
        "p =int(input(\"panjang\"))\n",
        "l =int(input(\"lebar\"))\n",
        "luas=p*l\n",
        "print(\"luas persegi panjang adalah\",luas)"
      ],
      "metadata": {
        "colab": {
          "base_uri": "https://localhost:8080/"
        },
        "id": "268coO6a1qgP",
        "outputId": "293c289f-2717-48f0-dbc9-dcb0c78e7e0f"
      },
      "execution_count": 4,
      "outputs": [
        {
          "output_type": "stream",
          "name": "stdout",
          "text": [
            "panjang12\n",
            "lebar4\n",
            "luas persegi panjang adalah 48\n"
          ]
        }
      ]
    },
    {
      "cell_type": "code",
      "source": [
        "#program  menentukan bilangan genap atau ganjil\n",
        "N= int(input())\n",
        "if N % 2 == 0 :\n",
        "    print (f\"{N} adalah bilangan genap\")\n",
        "else:\n",
        "  print(f\"{N} adalah bilangan ganjil\")\n"
      ],
      "metadata": {
        "colab": {
          "base_uri": "https://localhost:8080/"
        },
        "id": "l1FZbLia18m_",
        "outputId": "4b381d2f-1591-46ba-e9b0-eba58e479813"
      },
      "execution_count": 5,
      "outputs": [
        {
          "output_type": "stream",
          "name": "stdout",
          "text": [
            "8\n",
            "8 adalah bilangan genap\n"
          ]
        }
      ]
    },
    {
      "cell_type": "code",
      "source": [
        "#buat program menampilkan deret bilangan\n",
        "N = int(input())\n",
        "for i in range(1,N+1):\n",
        "  print(i,end=\" \")"
      ],
      "metadata": {
        "colab": {
          "base_uri": "https://localhost:8080/"
        },
        "id": "1jGf-i9O2Atx",
        "outputId": "4b74bf2d-96f9-448e-c8af-156575fbd199"
      },
      "execution_count": 7,
      "outputs": [
        {
          "output_type": "stream",
          "name": "stdout",
          "text": [
            "20\n",
            "1 2 3 4 5 6 7 8 9 10 11 12 13 14 15 16 17 18 19 20 "
          ]
        }
      ]
    },
    {
      "cell_type": "code",
      "source": [
        "#program  menghitung bilangan bulat antara a dan b\n",
        "a= int(input(\"masukan angka a :\"))\n",
        "b = int(input(\"masukan angka b :\"))\n",
        "for i in range(a,b+1):\n",
        "    jumlah = sum(range(a, b+1))\n",
        "\n",
        "print(f\"jumlah dari {a} sampai {b} adalah {jumlah}\")"
      ],
      "metadata": {
        "colab": {
          "base_uri": "https://localhost:8080/"
        },
        "id": "VCCRxQvv2fLn",
        "outputId": "3b1d9e07-88e4-4da3-d271-8761ae15d70f"
      },
      "execution_count": 8,
      "outputs": [
        {
          "output_type": "stream",
          "name": "stdout",
          "text": [
            "masukan angka a :2\n",
            "masukan angka b :12\n",
            "jumlah dari 2 sampai 12 adalah 77\n"
          ]
        }
      ]
    },
    {
      "cell_type": "code",
      "source": [
        "#program jumlah angka diantara a dan b\n",
        "a= int(input(\"masukan bilangan bulat a:\"))\n",
        "b = int(input(\"masukan bilangan bulat b:\"))\n",
        "print(\"bilangan genap dalam rentan tersebur adalah: \")\n",
        "\n",
        "for i in range (a, b+1):\n",
        "  if i % 2 == 0 :\n",
        "    print(i,end=\" \")"
      ],
      "metadata": {
        "colab": {
          "base_uri": "https://localhost:8080/"
        },
        "id": "n_5tCn1Z20BT",
        "outputId": "4562ec07-39a7-4a76-f2cb-fc6e50f26c41"
      },
      "execution_count": 9,
      "outputs": [
        {
          "output_type": "stream",
          "name": "stdout",
          "text": [
            "masukan bilangan bulat a:4\n",
            "masukan bilangan bulat b:10\n",
            "bilangan genap dalam rentan tersebur adalah: \n",
            "4 6 8 10 "
          ]
        }
      ]
    },
    {
      "cell_type": "code",
      "source": [
        "#program mencetak  nilai dari array dalam urutan terbalik\n",
        "A =[5,2,8,1]\n",
        "for i in range(len(A)-1, -1, -1):\n",
        "    print(A[i], end= \" \")"
      ],
      "metadata": {
        "colab": {
          "base_uri": "https://localhost:8080/"
        },
        "id": "tgDsxzhz28NN",
        "outputId": "3072859c-8be6-4c71-9d77-d9bcdafe2029"
      },
      "execution_count": 12,
      "outputs": [
        {
          "output_type": "stream",
          "name": "stdout",
          "text": [
            "1 8 2 5 "
          ]
        }
      ]
    },
    {
      "cell_type": "code",
      "source": [
        "# Program untuk mengecek apakah sebuah bilangan adalah bilangan prima\n",
        "\n",
        "def cek_prima(bilangan):\n",
        "    if bilangan <= 1:\n",
        "        return False\n",
        "    for i in range(2, int(bilangan**0.5) + 1):\n",
        "        if bilangan % i == 0:\n",
        "            return False\n",
        "    return True\n",
        "# Meminta input dari pengguna\n",
        "try:\n",
        "    angka = int(input(\"Masukkan sebuah bilangan bulat: \"))\n",
        "    if cek_prima(angka):\n",
        "        print(f\"{angka} adalah bilangan prima.\")\n",
        "    else:\n",
        "        print(f\"{angka} bukan bilangan prima.\")\n",
        "except ValueError:\n",
        "    print(\"Harap masukkan sebuah bilangan bulat yang valid.\")"
      ],
      "metadata": {
        "colab": {
          "base_uri": "https://localhost:8080/"
        },
        "id": "wP1h8Tov3J2q",
        "outputId": "d75f8dfd-d37e-4aab-c5b1-46e77819c4c3"
      },
      "execution_count": 15,
      "outputs": [
        {
          "output_type": "stream",
          "name": "stdout",
          "text": [
            "Masukkan sebuah bilangan bulat: 13\n",
            "13 adalah bilangan prima.\n"
          ]
        }
      ]
    }
  ]
}