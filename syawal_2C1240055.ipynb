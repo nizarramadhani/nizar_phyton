{
  "nbformat": 4,
  "nbformat_minor": 0,
  "metadata": {
    "colab": {
      "provenance": [],
      "authorship_tag": "ABX9TyPPFOs6BpzNQcALKpw8i51R",
      "include_colab_link": true
    },
    "kernelspec": {
      "name": "python3",
      "display_name": "Python 3"
    },
    "language_info": {
      "name": "python"
    }
  },
  "cells": [
    {
      "cell_type": "markdown",
      "metadata": {
        "id": "view-in-github",
        "colab_type": "text"
      },
      "source": [
        "<a href=\"https://colab.research.google.com/github/nizarramadhani/nizar_phyton/blob/main/syawal_2C1240055.ipynb\" target=\"_parent\"><img src=\"https://colab.research.google.com/assets/colab-badge.svg\" alt=\"Open In Colab\"/></a>"
      ]
    },
    {
      "cell_type": "code",
      "execution_count": 1,
      "metadata": {
        "colab": {
          "base_uri": "https://localhost:8080/"
        },
        "id": "iE8ytKeDvQhL",
        "outputId": "dbc4b7ea-35d7-4b53-8baa-35762750748a"
      },
      "outputs": [
        {
          "output_type": "stream",
          "name": "stdout",
          "text": [
            "Masukkan nilai A71\n",
            "Masukkan nilai B21\n",
            "92\n",
            "21\n"
          ]
        }
      ],
      "source": [
        "#Program Test\n",
        "#Spesifikasi : Menghitung nilai A dan B\n",
        "\n",
        "#KAMUS\n",
        "#A : int\n",
        "#B : int\n",
        "\n",
        "# ALGORITMA\n",
        "A = int(input('Masukkan nilai A'))      #input\n",
        "B = int(input('Masukkan nilai B'))\n",
        "\n",
        "A = A+B               #proses\n",
        "\n",
        "\n",
        "print(A)              #output\n",
        "print(B)"
      ]
    },
    {
      "cell_type": "code",
      "source": [
        "#Menghitung berapa yang harus di bayar anak itu\n",
        "#KAMUS\n",
        "# int M\n",
        "# int H\n",
        "# int K\n",
        "\n",
        "#ALGORITMA\n",
        "M =int(input(\"NILAI M: \"))\n",
        "H =int(input(\"NILAI H: \"))\n",
        "K =int(input(\"NILAI K: \"))\n",
        "\n",
        "m = 10\n",
        "h = 15\n",
        "k = 20\n",
        "\n",
        "total_harga = (M*m) +  (H*h) +(K*k)\n",
        "\n",
        "print(\"Jumlah yang harus dibayarkan adalah\", total_harga, \"Rupiah\")\n"
      ],
      "metadata": {
        "colab": {
          "base_uri": "https://localhost:8080/"
        },
        "id": "lZIzRXbXwOf2",
        "outputId": "0e400f84-10aa-4bed-b286-b99de1071386"
      },
      "execution_count": 2,
      "outputs": [
        {
          "output_type": "stream",
          "name": "stdout",
          "text": [
            "NILAI M: 12\n",
            "NILAI H: 5\n",
            "NILAI K: 7\n",
            "Jumlah yang harus dibayarkan adalah 335 Rupiah\n"
          ]
        }
      ]
    },
    {
      "cell_type": "code",
      "source": [
        "print(13+2) #Hasil Langsung dari penjumlahan\n",
        "apel = 7\n",
        "jeruk = 9\n",
        "buah = apel  + jeruk\n",
        "print(buah) #Hasil dari variabel\n"
      ],
      "metadata": {
        "id": "JkWmuLBJxP-D"
      },
      "execution_count": null,
      "outputs": []
    },
    {
      "cell_type": "code",
      "source": [
        "#Soal 1\n",
        "#Program menghitung luas persegi\n",
        "sisi = float(input(\"Masukkan panjang sisi:\"))\n",
        "luas_persegi = sisi * sisi\n",
        "print(\"jadi luas persegi adalah\", luas_persegi)\n",
        "\n",
        "\n"
      ],
      "metadata": {
        "colab": {
          "base_uri": "https://localhost:8080/"
        },
        "id": "BvlbPFXeypn8",
        "outputId": "f7f24b6b-2f82-4e87-88db-4cc778c7a430"
      },
      "execution_count": 3,
      "outputs": [
        {
          "output_type": "stream",
          "name": "stdout",
          "text": [
            "Masukkan panjang sisi:9\n",
            "jadi luas persegi adalah 81.0\n"
          ]
        }
      ]
    },
    {
      "cell_type": "code",
      "source": [
        "#Soal 2\n",
        "nama = str (input (\"masukkan nama : \"))\n",
        "nim = str (input(\"masukkan nim : \"))\n",
        "fakultas = str (input(\"masukkan fakultas : \"))\n",
        "jurusan = str (input(\"masukkan jurusan : \"))\n",
        "KotaAsal = str (input(\"masukkan Kota Asal : \"))\n",
        "Alamat = str (input(\"masukkan Alamat : \"))\n",
        "print(nama)\n",
        "print(nim)\n",
        "print(fakultas)\n",
        "print(jurusan)\n",
        "print(KotaAsal)"
      ],
      "metadata": {
        "colab": {
          "base_uri": "https://localhost:8080/"
        },
        "id": "fAM7NMEpzBAJ",
        "outputId": "e435bf38-a76c-49e8-c761-bd07017f35e6"
      },
      "execution_count": 4,
      "outputs": [
        {
          "output_type": "stream",
          "name": "stdout",
          "text": [
            "masukkan nama : sawaludin\n",
            "masukkan nim : 2C1240055\n",
            "masukkan fakultas : sains dan teknologi\n",
            "masukkan jurusan : s1 agribisnis\n",
            "masukkan Kota Asal : balam,bangko pusako\n",
            "masukkan Alamat : jln,lintas riau km16\n",
            "sawaludin\n",
            "2C1240055\n",
            "sains dan teknologi\n",
            "s1 agribisnis\n",
            "balam,bangko pusako\n"
          ]
        }
      ]
    }
  ]
}