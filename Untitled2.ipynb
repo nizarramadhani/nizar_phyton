{
  "nbformat": 4,
  "nbformat_minor": 0,
  "metadata": {
    "colab": {
      "provenance": [],
      "authorship_tag": "ABX9TyP/wiUsMuPZVYliLCAXla3p",
      "include_colab_link": true
    },
    "kernelspec": {
      "name": "python3",
      "display_name": "Python 3"
    },
    "language_info": {
      "name": "python"
    }
  },
  "cells": [
    {
      "cell_type": "markdown",
      "metadata": {
        "id": "view-in-github",
        "colab_type": "text"
      },
      "source": [
        "<a href=\"https://colab.research.google.com/github/nizarramadhani/nizar_phyton/blob/main/Untitled2.ipynb\" target=\"_parent\"><img src=\"https://colab.research.google.com/assets/colab-badge.svg\" alt=\"Open In Colab\"/></a>"
      ]
    },
    {
      "cell_type": "code",
      "execution_count": 7,
      "metadata": {
        "colab": {
          "base_uri": "https://localhost:8080/"
        },
        "id": "z-uSrjdCQbQP",
        "outputId": "a8024738-1912-4718-ab83-f1bf737e2476"
      },
      "outputs": [
        {
          "output_type": "stream",
          "name": "stdout",
          "text": [
            "Masukkan nomor bulan (1-12): 3\n",
            "Masukkan tahun: 2025\n",
            "Jumlah hari pada bulan Maret tahun 2025 adalah 31.\n"
          ]
        }
      ],
      "source": [
        "#TUGAS 1\n",
        "import calendar\n",
        "\n",
        "# Daftar nama bulan\n",
        "nama_bulan = {\n",
        "    1: \"Januari\", 2: \"Februari\", 3: \"Maret\", 4: \"April\",\n",
        "    5: \"Mei\", 6: \"Juni\", 7: \"Juli\", 8: \"Agustus\",\n",
        "    9: \"September\", 10: \"Oktober\", 11: \"November\", 12: \"Desember\"\n",
        "}\n",
        "\n",
        "# Input nomor bulan dan tahun dari pengguna\n",
        "bulan = int(input(\"Masukkan nomor bulan (1-12): \"))\n",
        "tahun = int(input(\"Masukkan tahun: \"))\n",
        "\n",
        "if 1 <= bulan <= 12:\n",
        "    jumlah_hari = calendar.monthrange(tahun, bulan)[1]\n",
        "    print(f\"Jumlah hari pada bulan {nama_bulan[bulan]} tahun {tahun} adalah {jumlah_hari}.\")\n",
        "else:\n",
        "    print(\"Nomor bulan tidak valid! Masukkan angka antara 1-12.\")"
      ]
    },
    {
      "cell_type": "code",
      "source": [
        "#TUGAS 2\n",
        "from datetime import datetime, timedelta\n",
        "\n",
        "# Input tanggal dari pengguna\n",
        "tanggal_input = input(\"Masukkan tanggal (format: DD-MM-YYYY): \")\n",
        "\n",
        "try:\n",
        "    tanggal = datetime.strptime(tanggal_input, \"%d-%m-%Y\")\n",
        "\n",
        "    besok = tanggal + timedelta(days=1)\n",
        "\n",
        "    print(f\"Besok adalah {besok.strftime('%d-%m-%Y')}\")\n",
        "except ValueError:\n",
        "    print(\"Format tanggal salah! Harap masukkan dalam format DD-MM-YYYY.\")"
      ],
      "metadata": {
        "colab": {
          "base_uri": "https://localhost:8080/"
        },
        "id": "0g3WV_EPQ9h_",
        "outputId": "b64c3668-019a-4d3a-8042-4bf22cd990c8"
      },
      "execution_count": 6,
      "outputs": [
        {
          "output_type": "stream",
          "name": "stdout",
          "text": [
            "Masukkan tanggal (format: DD-MM-YYYY): 10-03-2025\n",
            "Besok adalah 11-03-2025\n"
          ]
        }
      ]
    },
    {
      "cell_type": "code",
      "source": [
        "#TUGAS 3\n",
        "# Input nilai belanja dari pengguna\n",
        "nilai_belanja = int(input(\"Masukkan nilai belanja: \"))\n",
        "\n",
        "pembulatan_terendah = (nilai_belanja // 25) * 25\n",
        "\n",
        "print(f\"Nilai belanja setelah dibulatkan: Rp{pembulatan_terendah}\")"
      ],
      "metadata": {
        "colab": {
          "base_uri": "https://localhost:8080/"
        },
        "id": "9bIEDiokRRYD",
        "outputId": "c8845ef1-3630-49e4-9b9a-6cce725c4dbf"
      },
      "execution_count": 5,
      "outputs": [
        {
          "output_type": "stream",
          "name": "stdout",
          "text": [
            "Masukkan nilai belanja: 15212\n",
            "Nilai belanja setelah dibulatkan: Rp15200\n"
          ]
        }
      ]
    }
  ]
}