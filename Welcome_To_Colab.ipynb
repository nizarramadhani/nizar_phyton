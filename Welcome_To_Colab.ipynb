{
  "cells": [
    {
      "cell_type": "markdown",
      "metadata": {
        "id": "view-in-github",
        "colab_type": "text"
      },
      "source": [
        "<a href=\"https://colab.research.google.com/github/nizarramadhani/nizar_phyton/blob/main/Welcome_To_Colab.ipynb\" target=\"_parent\"><img src=\"https://colab.research.google.com/assets/colab-badge.svg\" alt=\"Open In Colab\"/></a>"
      ]
    },
    {
      "cell_type": "code",
      "execution_count": 49,
      "metadata": {
        "id": "zwFnJsE6vjf8",
        "outputId": "9c95f404-2c6b-4357-817e-33c663699677",
        "colab": {
          "base_uri": "https://localhost:8080/"
        }
      },
      "outputs": [
        {
          "output_type": "stream",
          "name": "stdout",
          "text": [
            "Sembilan Lebih Besar Dari Angka Tujuh\n"
          ]
        }
      ],
      "source": [
        "#Kondisi if adalah kondisi yang akan dieksekusi oleh program jika bernilai benar atau TRUE\n",
        "\n",
        "nilai = 9\n",
        "#jika kondisi benar/TRUE maka program akan mengeksekusi perintah dibawahnya\n",
        "if(nilai >7):\n",
        " print(\"Sembilan Lebih Besar Dari Angka Tujuh\") # Kondisi Benar, Dieksekusi\n",
        "#jika kondisi salah/FALSE maka program tidak akan mengeksekusi perintah dibawahnya\n",
        "if(nilai > 10):\n",
        " print(\"Sembilan Lebih Besar Dari Angka Sepuluh\") # Kondisi Salah, Maka tidak tereksekusi\n"
      ]
    },
    {
      "cell_type": "code",
      "source": [
        "grade = float(input(\"Masukkan grade\"))\n",
        "\n",
        "if grade == 100:\n",
        "   print(\"perfect\")\n",
        "\n",
        "if grade == 90:\n",
        "   print(\"ok\")\n",
        "   print(\"keep working hard\")"
      ],
      "metadata": {
        "id": "K_J3pYXQ5TMB",
        "outputId": "a5770ffb-5342-4091-d0f9-11a1c2717883",
        "colab": {
          "base_uri": "https://localhost:8080/"
        }
      },
      "execution_count": 51,
      "outputs": [
        {
          "output_type": "stream",
          "name": "stdout",
          "text": [
            "Masukkan grade100\n",
            "perfect\n"
          ]
        }
      ]
    },
    {
      "cell_type": "code",
      "source": [
        "# Kondisi if else adalah jika kondisi bernilai TRUE maka akan dieksekusi pada if,\n",
        "# tetapi jika bernilai FALSE maka akan dieksekusi kode pada else\n",
        "\n",
        "nilai = 8\n",
        "# Jika pernyataan pada if bernilai TRUE maka if akan dieksekusi,\n",
        "# tetapi jika FALSE kode pada else yang akan dieksekusi.\n",
        "if(nilai > 7):\n",
        " print(\"Selamat Anda Lulus\")\n",
        "else:\n",
        " print(\"Maaf Anda Tidak Lulus\")"
      ],
      "metadata": {
        "id": "4_AQu8uR7SMZ",
        "outputId": "40d8396b-a7d0-4c15-daef-da81094970be",
        "colab": {
          "base_uri": "https://localhost:8080/"
        }
      },
      "execution_count": 41,
      "outputs": [
        {
          "output_type": "stream",
          "name": "stdout",
          "text": [
            "Selamat Anda Lulus\n"
          ]
        }
      ]
    },
    {
      "cell_type": "code",
      "source": [
        "str_input = input('Enter your grade: ')\n",
        "grade = int(str_input)\n",
        "if grade == 100:\n",
        " print(\"perfect\")\n",
        "else:\n",
        " print(\"keep it up\")"
      ],
      "metadata": {
        "id": "xzaT5VbG7p6n",
        "outputId": "5c8cf91d-78b1-41b7-ccc0-bb682e2d68d4",
        "colab": {
          "base_uri": "https://localhost:8080/"
        }
      },
      "execution_count": 43,
      "outputs": [
        {
          "output_type": "stream",
          "name": "stdout",
          "text": [
            "Enter your grade: 98\n",
            "keep it up\n"
          ]
        }
      ]
    },
    {
      "cell_type": "code",
      "source": [
        "Lapar = input(\"Apakah zaki lapar? \")\n",
        "if(\"lapar == ya\"):\n",
        " print(\"Zaki makan\")\n",
        "else:\n",
        " print(\"Zaki tidak makan\")"
      ],
      "metadata": {
        "id": "39zag5DT713Y",
        "outputId": "a1d2d7a7-6c53-4d8b-cd19-dca4dc724574",
        "colab": {
          "base_uri": "https://localhost:8080/"
        }
      },
      "execution_count": 45,
      "outputs": [
        {
          "output_type": "stream",
          "name": "stdout",
          "text": [
            "Apakah zaki lapar? ya\n",
            "Zaki makan\n"
          ]
        }
      ]
    },
    {
      "cell_type": "code",
      "source": [
        "#Contoh penggunaan kondisi elif\n",
        "hari_ini = input(\"Masukkan hari(gunakan huruf kecil): \")\n",
        "if(hari_ini == \"senin\"):\n",
        " print(\"Saya akan kuliah\")\n",
        "elif(hari_ini == \"selasa\"):\n",
        " print(\"Saya akan kuliah\")\n",
        "elif(hari_ini == \"rabu\"):\n",
        " print(\"Saya akan kuliah\")\n",
        "elif(hari_ini == \"kamis\"):\n",
        " print(\"Saya akan kuliah\")\n",
        "elif(hari_ini == \"jumat\"):\n",
        " print(\"Saya akan kuliah\")\n",
        "elif(hari_ini == \"sabtu\"):\n",
        " print(\"Saya akan kuliah\")\n",
        "elif(hari_ini == \"minggu\"):\n",
        " print(\"Saya akan libur\")"
      ],
      "metadata": {
        "id": "xq15l7--8zvT",
        "outputId": "fd0d0fb1-0b20-4e01-b751-36268631f012",
        "colab": {
          "base_uri": "https://localhost:8080/"
        }
      },
      "execution_count": 53,
      "outputs": [
        {
          "output_type": "stream",
          "name": "stdout",
          "text": [
            "Masukkan hari(gunakan huruf kecil): rabu\n",
            "Saya akan kuliah\n"
          ]
        }
      ]
    },
    {
      "cell_type": "code",
      "source": [
        "str_input = input('Enter your grade: ')\n",
        "grade = int(str_input)\n",
        "if grade == 100:\n",
        " print(\"perfect\")\n",
        "elif grade >= 85:\n",
        " print(\"awesome\")\n",
        "elif grade >= 65:\n",
        " print(\"passed the exam\")\n",
        "else:\n",
        " print(\"below the passing grade\")"
      ],
      "metadata": {
        "id": "HfucINkm-QwR",
        "outputId": "385c04f6-52fe-469c-f709-e56677e6d4e6",
        "colab": {
          "base_uri": "https://localhost:8080/"
        }
      },
      "execution_count": 58,
      "outputs": [
        {
          "output_type": "stream",
          "name": "stdout",
          "text": [
            "Enter your grade: 76\n",
            "passed the exam\n"
          ]
        }
      ]
    },
    {
      "cell_type": "code",
      "source": [
        "str_input = input('Enter your grade: ')\n",
        "grade = int(str_input)\n",
        "if grade == 100:\n",
        " print(\"perfect\")\n",
        "elif grade >= 85:\n",
        " print(\"awesome\")\n",
        "elif grade >= 65:\n",
        " print(\"passed the exam\")\n",
        "else:\n",
        " print(\"below the passing grade\")"
      ],
      "metadata": {
        "id": "JSI3ySMMBsDC",
        "outputId": "a5cfd7e6-7f2f-4605-b732-353e686c763c",
        "colab": {
          "base_uri": "https://localhost:8080/"
        }
      },
      "execution_count": 64,
      "outputs": [
        {
          "output_type": "stream",
          "name": "stdout",
          "text": [
            "Enter your grade: 87\n",
            "awesome\n"
          ]
        }
      ]
    },
    {
      "cell_type": "code",
      "source": [
        "grade = int(input('Enter your current grade: '))\n",
        "prev_grade = int(input('Enter your previous grade: '))\n",
        "\n",
        "if grade >= 90 and prev_grade >= 65:\n",
        "  print(\"awesome\")\n",
        "if grade >= 90 and prev_grade < 65:\n",
        "  print(\"awesome. you definitely working hard, right?\")\n",
        "elif grade >= 65:\n",
        "  print(\"passed the exam\")\n",
        "else:\n",
        "  print(\"below the passing grade\")\n",
        "\n",
        "if (grade >= 65 and not prev_grade >= 65) or (not grade >= 65 and prev_grade >= 65):\n",
        " print(\"at least you passed one exam. good job!\")"
      ],
      "metadata": {
        "id": "3-GpKGrPCyg5",
        "outputId": "4e61c583-f892-4d83-8d3d-c4ac35cbbfa1",
        "colab": {
          "base_uri": "https://localhost:8080/"
        }
      },
      "execution_count": 65,
      "outputs": [
        {
          "output_type": "stream",
          "name": "stdout",
          "text": [
            "Enter your current grade: 75\n",
            "Enter your previous grade: 93\n",
            "passed the exam\n"
          ]
        }
      ]
    },
    {
      "cell_type": "code",
      "source": [
        "umur = 20\n",
        "status = 'Dewasa' if umur >= 18 else 'Anak-anak'\n",
        "print(status)"
      ],
      "metadata": {
        "id": "F4Gnn_pqFXbL",
        "outputId": "84252249-7e56-434c-f982-0227c43203a4",
        "colab": {
          "base_uri": "https://localhost:8080/"
        }
      },
      "execution_count": 69,
      "outputs": [
        {
          "output_type": "stream",
          "name": "stdout",
          "text": [
            "Dewasa\n"
          ]
        }
      ]
    },
    {
      "cell_type": "code",
      "source": [
        "umur = 14\n",
        "status = 'Dewasa' if umur >= 18 else 'Anak-anak'\n",
        "print(status)"
      ],
      "metadata": {
        "id": "dXvfLVpeGs8M",
        "outputId": "566fcb9d-a5b5-4b67-a261-4d9c3a2a0e9c",
        "colab": {
          "base_uri": "https://localhost:8080/"
        }
      },
      "execution_count": 72,
      "outputs": [
        {
          "output_type": "stream",
          "name": "stdout",
          "text": [
            "Anak-anak\n"
          ]
        }
      ]
    },
    {
      "cell_type": "code",
      "source": [
        "#soal 1\n",
        "# Minta input bilangan dari user\n",
        "bilangan = int(input(\"Masukkan sebuah bilangan: \"))\n",
        "\n",
        "# Cek apakah bilangan habis dibagi 3\n",
        "if bilangan % 3 == 0:\n",
        "    print(\"Bilangan ini habis dibagi 3.\")\n",
        "else:\n",
        "    print(\"Bilangan ini tidak habis dibagi 3.\")"
      ],
      "metadata": {
        "id": "yhQd7pv-AU2Z",
        "outputId": "42e1a1fa-7310-4e62-bb78-0a9258a449cc",
        "colab": {
          "base_uri": "https://localhost:8080/"
        }
      },
      "execution_count": 56,
      "outputs": [
        {
          "output_type": "stream",
          "name": "stdout",
          "text": [
            "Masukkan sebuah bilangan: 18\n",
            "Bilangan ini habis dibagi 3.\n"
          ]
        }
      ]
    },
    {
      "cell_type": "code",
      "source": [
        "#soal 2\n",
        "# Minta input nama dan jenis kelamin\n",
        "nama = input(\"Masukkan nama Anda: \")\n",
        "jenis_kelamin = input(\"Masukkan jenis kelamin (pria/wanita): \").lower()\n",
        "\n",
        "# Cek jenis kelamin dan cetak pesan\n",
        "if jenis_kelamin == \"pria\":\n",
        "    print(f\"Halo bro {nama}\")\n",
        "elif jenis_kelamin == \"wanita\":\n",
        "    print(f\"Halo sis {nama}\")\n",
        "else:\n",
        "    print(\"Jenis kelamin tidak valid.\")"
      ],
      "metadata": {
        "id": "dkKzwAVTBU-J",
        "outputId": "3c1b5dc4-a378-466c-ca38-ad59d82f98c8",
        "colab": {
          "base_uri": "https://localhost:8080/"
        }
      },
      "execution_count": 60,
      "outputs": [
        {
          "output_type": "stream",
          "name": "stdout",
          "text": [
            "Masukkan nama Anda: Nizar Ramadhani\n",
            "Masukkan jenis kelamin (pria/wanita): Pria\n",
            "Halo bro Nizar Ramadhani\n"
          ]
        }
      ]
    },
    {
      "cell_type": "code",
      "source": [
        "#soal 3\n",
        "# Program menentukan nilai ujian\n",
        "nilai = int(input(\"Masukkan nilai ujian Anda: \"))\n",
        "\n",
        "# Kondisi if-elif-else untuk kategori nilai\n",
        "if nilai >= 85:\n",
        "    print(\"Nilai Anda: A\")\n",
        "elif nilai >= 70:\n",
        "    print(\"Nilai Anda: B\")\n",
        "elif nilai >= 60:\n",
        "    print(\"Nilai Anda: C\")\n",
        "elif nilai >= 50:\n",
        "    print(\"Nilai Anda: D\")\n",
        "else:\n",
        "    print(\"Nilai Anda: E\")"
      ],
      "metadata": {
        "id": "FEhizLuwCfsK",
        "outputId": "e828e8bd-1d44-4374-f35b-313f9a633f35",
        "colab": {
          "base_uri": "https://localhost:8080/"
        }
      },
      "execution_count": 63,
      "outputs": [
        {
          "output_type": "stream",
          "name": "stdout",
          "text": [
            "Masukkan nilai ujian Anda: 93\n",
            "Nilai Anda: A\n"
          ]
        }
      ]
    }
  ],
  "metadata": {
    "colab": {
      "name": "Welcome To Colab",
      "provenance": [],
      "include_colab_link": true
    },
    "kernelspec": {
      "display_name": "Python 3",
      "name": "python3"
    }
  },
  "nbformat": 4,
  "nbformat_minor": 0
}